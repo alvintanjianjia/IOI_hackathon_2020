{
 "cells": [
  {
   "cell_type": "code",
   "execution_count": 4,
   "metadata": {},
   "outputs": [
    {
     "ename": "ModuleNotFoundError",
     "evalue": "No module named 'geopandas'",
     "output_type": "error",
     "traceback": [
      "\u001b[1;31m---------------------------------------------------------------------------\u001b[0m",
      "\u001b[1;31mModuleNotFoundError\u001b[0m                       Traceback (most recent call last)",
      "\u001b[1;32m<ipython-input-4-7833fc396895>\u001b[0m in \u001b[0;36m<module>\u001b[1;34m()\u001b[0m\n\u001b[1;32m----> 1\u001b[1;33m \u001b[1;32mimport\u001b[0m \u001b[0mgeopandas\u001b[0m \u001b[1;32mas\u001b[0m \u001b[0mgp\u001b[0m\u001b[1;33m\u001b[0m\u001b[0m\n\u001b[0m\u001b[0;32m      2\u001b[0m \u001b[1;32mimport\u001b[0m \u001b[0mgeohash\u001b[0m\u001b[1;33m\u001b[0m\u001b[0m\n\u001b[0;32m      3\u001b[0m \u001b[1;32mimport\u001b[0m \u001b[0mpandas\u001b[0m \u001b[1;32mas\u001b[0m \u001b[0mpd\u001b[0m\u001b[1;33m\u001b[0m\u001b[0m\n\u001b[0;32m      4\u001b[0m \u001b[1;32mimport\u001b[0m \u001b[0mnumpy\u001b[0m \u001b[1;32mas\u001b[0m \u001b[0mnp\u001b[0m\u001b[1;33m\u001b[0m\u001b[0m\n\u001b[0;32m      5\u001b[0m \u001b[1;32mimport\u001b[0m \u001b[0mfiona\u001b[0m\u001b[1;33m\u001b[0m\u001b[0m\n",
      "\u001b[1;31mModuleNotFoundError\u001b[0m: No module named 'geopandas'"
     ]
    }
   ],
   "source": [
    "import geopandas as gp\n",
    "import geohash\n",
    "import pandas as pd\n",
    "import numpy as np\n",
    "import fiona\n",
    "import json\n",
    "import geog\n",
    "import shapely\n",
    "import shapely.geometry\n",
    "from osgeo import ogr\n",
    "from polygongeohasher import polygon_to_geohashes, geohashes_to_polygon\n",
    "import requests\n",
    "import psycopg2\n",
    "from sqlalchemy import create_engine\n",
    "import psycopg2\n",
    "from sqlalchemy import create_engine\n",
    "%autosave 0 "
   ]
  },
  {
   "cell_type": "code",
   "execution_count": null,
   "metadata": {},
   "outputs": [],
   "source": [
    "import pyproj\n",
    "from functools import partial\n",
    "from shapely.ops import transform"
   ]
  },
  {
   "cell_type": "code",
   "execution_count": 2,
   "metadata": {},
   "outputs": [
    {
     "ename": "NameError",
     "evalue": "name 'create_engine' is not defined",
     "output_type": "error",
     "traceback": [
      "\u001b[1;31m---------------------------------------------------------------------------\u001b[0m",
      "\u001b[1;31mNameError\u001b[0m                                 Traceback (most recent call last)",
      "\u001b[1;32m<ipython-input-2-1c9f6d652b72>\u001b[0m in \u001b[0;36m<module>\u001b[1;34m()\u001b[0m\n\u001b[0;32m      6\u001b[0m \u001b[0mdb2\u001b[0m \u001b[1;33m=\u001b[0m \u001b[1;34m'edotco'\u001b[0m\u001b[1;33m\u001b[0m\u001b[0m\n\u001b[0;32m      7\u001b[0m \u001b[1;31m# This engine just used to query for list of databases\u001b[0m\u001b[1;33m\u001b[0m\u001b[1;33m\u001b[0m\u001b[0m\n\u001b[1;32m----> 8\u001b[1;33m \u001b[0mpostgreseng\u001b[0m \u001b[1;33m=\u001b[0m \u001b[0mcreate_engine\u001b[0m\u001b[1;33m(\u001b[0m\u001b[1;34m'postgresql+psycopg2://{0}:{1}@{2}:{3}/{4}'\u001b[0m\u001b[1;33m.\u001b[0m\u001b[0mformat\u001b[0m\u001b[1;33m(\u001b[0m\u001b[0muser\u001b[0m\u001b[1;33m,\u001b[0m \u001b[0mpwd\u001b[0m\u001b[1;33m,\u001b[0m \u001b[0mhost\u001b[0m\u001b[1;33m,\u001b[0m \u001b[0mport\u001b[0m\u001b[1;33m,\u001b[0m\u001b[0mdb\u001b[0m\u001b[1;33m)\u001b[0m\u001b[1;33m)\u001b[0m\u001b[1;33m\u001b[0m\u001b[0m\n\u001b[0m\u001b[0;32m      9\u001b[0m \u001b[0mpostgreseng2\u001b[0m \u001b[1;33m=\u001b[0m \u001b[0mcreate_engine\u001b[0m\u001b[1;33m(\u001b[0m\u001b[1;34m'postgresql+psycopg2://{0}:{1}@{2}:{3}/{4}'\u001b[0m\u001b[1;33m.\u001b[0m\u001b[0mformat\u001b[0m\u001b[1;33m(\u001b[0m\u001b[0muser\u001b[0m\u001b[1;33m,\u001b[0m \u001b[0mpwd\u001b[0m\u001b[1;33m,\u001b[0m \u001b[0mhost\u001b[0m\u001b[1;33m,\u001b[0m \u001b[0mport\u001b[0m\u001b[1;33m,\u001b[0m\u001b[0mdb2\u001b[0m\u001b[1;33m)\u001b[0m\u001b[1;33m)\u001b[0m\u001b[1;33m\u001b[0m\u001b[0m\n\u001b[0;32m     10\u001b[0m \u001b[0mpoi\u001b[0m \u001b[1;33m=\u001b[0m \u001b[0mpd\u001b[0m\u001b[1;33m.\u001b[0m\u001b[0mread_sql_table\u001b[0m\u001b[1;33m(\u001b[0m\u001b[1;34m'finalpoi_v1'\u001b[0m\u001b[1;33m,\u001b[0m\u001b[0mcon\u001b[0m\u001b[1;33m=\u001b[0m\u001b[0mpostgreseng2\u001b[0m\u001b[1;33m)\u001b[0m\u001b[1;33m\u001b[0m\u001b[0m\n",
      "\u001b[1;31mNameError\u001b[0m: name 'create_engine' is not defined"
     ]
    }
   ],
   "source": [
    "user = 'postgres'\n",
    "pwd = 'password123'\n",
    "host = 'localhost'\n",
    "port = 5432\n",
    "db = 'ookla'\n",
    "db2 = 'edotco'\n",
    "# This engine just used to query for list of databases\n",
    "postgreseng = create_engine('postgresql+psycopg2://{0}:{1}@{2}:{3}/{4}'.format(user, pwd, host, port,db))\n",
    "postgreseng2 = create_engine('postgresql+psycopg2://{0}:{1}@{2}:{3}/{4}'.format(user, pwd, host, port,db2))\n",
    "poi = pd.read_sql_table('finalpoi_v1',con=postgreseng2)\n",
    "poi = pd.read_csv(\"poi.csv\")\n",
    "poi.category.value_counts()\n",
    "poi.finalcat.value_counts()"
   ]
  },
  {
   "cell_type": "code",
   "execution_count": null,
   "metadata": {},
   "outputs": [],
   "source": []
  },
  {
   "cell_type": "code",
   "execution_count": 1,
   "metadata": {},
   "outputs": [
    {
     "ename": "NameError",
     "evalue": "name 'pd' is not defined",
     "output_type": "error",
     "traceback": [
      "\u001b[1;31m---------------------------------------------------------------------------\u001b[0m",
      "\u001b[1;31mNameError\u001b[0m                                 Traceback (most recent call last)",
      "\u001b[1;32m<ipython-input-1-6ca05eb46844>\u001b[0m in \u001b[0;36m<module>\u001b[1;34m()\u001b[0m\n\u001b[0;32m      1\u001b[0m \u001b[1;31m# STEP 1: GET THE RESPECTIVE CATEGORY\u001b[0m\u001b[1;33m\u001b[0m\u001b[1;33m\u001b[0m\u001b[0m\n\u001b[1;32m----> 2\u001b[1;33m \u001b[0mpoi\u001b[0m \u001b[1;33m=\u001b[0m \u001b[0mpd\u001b[0m\u001b[1;33m.\u001b[0m\u001b[0mread_csv\u001b[0m\u001b[1;33m(\u001b[0m\u001b[1;34m\"poi.csv\"\u001b[0m\u001b[1;33m)\u001b[0m\u001b[1;33m\u001b[0m\u001b[0m\n\u001b[0m\u001b[0;32m      3\u001b[0m \u001b[0mpoi_fin\u001b[0m \u001b[1;33m=\u001b[0m \u001b[0mpoi\u001b[0m\u001b[1;33m[\u001b[0m\u001b[0mpoi\u001b[0m\u001b[1;33m[\u001b[0m\u001b[1;34m'finalcat'\u001b[0m\u001b[1;33m]\u001b[0m \u001b[1;33m==\u001b[0m \u001b[1;34m'Financial Institutions'\u001b[0m\u001b[1;33m]\u001b[0m\u001b[1;33m[\u001b[0m\u001b[1;33m[\u001b[0m\u001b[1;34m'latitude'\u001b[0m\u001b[1;33m,\u001b[0m\u001b[1;34m'longitude'\u001b[0m\u001b[1;33m]\u001b[0m\u001b[1;33m]\u001b[0m\u001b[1;33m\u001b[0m\u001b[0m\n\u001b[0;32m      4\u001b[0m \u001b[0mpoi_fin\u001b[0m\u001b[1;33m.\u001b[0m\u001b[0mreset_index\u001b[0m\u001b[1;33m(\u001b[0m\u001b[0minplace\u001b[0m\u001b[1;33m=\u001b[0m\u001b[1;32mTrue\u001b[0m\u001b[1;33m)\u001b[0m\u001b[1;33m\u001b[0m\u001b[0m\n",
      "\u001b[1;31mNameError\u001b[0m: name 'pd' is not defined"
     ]
    }
   ],
   "source": [
    "# STEP 1: GET THE RESPECTIVE CATEGORY \n",
    "poi = pd.read_csv(\"poi.csv\")\n",
    "poi_fin = poi[poi['finalcat'] == 'Financial Institutions'][['latitude','longitude']]\n",
    "poi_fin.reset_index(inplace=True)"
   ]
  },
  {
   "cell_type": "code",
   "execution_count": 309,
   "metadata": {},
   "outputs": [],
   "source": [
    "# STEP 2: CREATE CIRLE 1 KM \n",
    "def createCirle(lat,long,radius): # radius in meter measurement \n",
    "    p = shapely.geometry.Point([long, lat])\n",
    "    n_points = 20\n",
    "    d = radius #10 * 1000  # meters\n",
    "    angles = np.linspace(0, 360, n_points)\n",
    "    polygon = geog.propagate(p, angles, d)\n",
    "    #return ogr.CreateGeometryFromJson(json.dumps(shapely.geometry.mapping(shapely.geometry.Polygon(polygon))))\n",
    "    return shapely.geometry.mapping(shapely.geometry.Polygon(polygon))\n",
    "poi_fin['circle'] = poi.apply(lambda x: createCirle(x['latitude'],x['longitude'],1000),axis=1)"
   ]
  },
  {
   "cell_type": "code",
   "execution_count": 305,
   "metadata": {},
   "outputs": [],
   "source": [
    "# STEP 3: CONVERT THE CRICLE ABOVE INTO POLYGON\n",
    "def convert2shapely(js):\n",
    "    shapely_polygon = shapely.geometry.Polygon(list(js['coordinates'][0]))\n",
    "    return gp.GeoSeries([shapely_polygon])\n",
    "poi_fin['geometry'] = poi_fin['circle'].apply(lambda x: convert2shapely(x))"
   ]
  },
  {
   "cell_type": "code",
   "execution_count": 307,
   "metadata": {},
   "outputs": [
    {
     "data": {
      "text/html": [
       "<div>\n",
       "<style scoped>\n",
       "    .dataframe tbody tr th:only-of-type {\n",
       "        vertical-align: middle;\n",
       "    }\n",
       "\n",
       "    .dataframe tbody tr th {\n",
       "        vertical-align: top;\n",
       "    }\n",
       "\n",
       "    .dataframe thead th {\n",
       "        text-align: right;\n",
       "    }\n",
       "</style>\n",
       "<table border=\"1\" class=\"dataframe\">\n",
       "  <thead>\n",
       "    <tr style=\"text-align: right;\">\n",
       "      <th></th>\n",
       "      <th>index</th>\n",
       "      <th>latitude</th>\n",
       "      <th>longitude</th>\n",
       "      <th>circle</th>\n",
       "      <th>geometry</th>\n",
       "    </tr>\n",
       "  </thead>\n",
       "  <tbody>\n",
       "    <tr>\n",
       "      <th>0</th>\n",
       "      <td>45</td>\n",
       "      <td>22.949900</td>\n",
       "      <td>97.746000</td>\n",
       "      <td>{'type': 'Polygon', 'coordinates': (((96.18320...</td>\n",
       "      <td>POLYGON ((96.18320608442839 16.83874978638753,...</td>\n",
       "    </tr>\n",
       "    <tr>\n",
       "      <th>1</th>\n",
       "      <td>67</td>\n",
       "      <td>16.777815</td>\n",
       "      <td>96.151357</td>\n",
       "      <td>{'type': 'Polygon', 'coordinates': (((96.13845...</td>\n",
       "      <td>POLYGON ((96.13845207912325 16.82856548652448,...</td>\n",
       "    </tr>\n",
       "  </tbody>\n",
       "</table>\n",
       "</div>"
      ],
      "text/plain": [
       "   index   latitude  longitude  \\\n",
       "0     45  22.949900  97.746000   \n",
       "1     67  16.777815  96.151357   \n",
       "\n",
       "                                              circle  \\\n",
       "0  {'type': 'Polygon', 'coordinates': (((96.18320...   \n",
       "1  {'type': 'Polygon', 'coordinates': (((96.13845...   \n",
       "\n",
       "                                            geometry  \n",
       "0  POLYGON ((96.18320608442839 16.83874978638753,...  \n",
       "1  POLYGON ((96.13845207912325 16.82856548652448,...  "
      ]
     },
     "execution_count": 307,
     "metadata": {},
     "output_type": "execute_result"
    }
   ],
   "source": [
    "poi_fin.head(2)"
   ]
  },
  {
   "cell_type": "code",
   "execution_count": 308,
   "metadata": {},
   "outputs": [],
   "source": [
    "# STEP 4: GET THE RESPECITVE GEOHASH INSIDE EACH CIRCLE POLYGON\n",
    "poi_fin['geohash'] = poi_fin['geometry'].apply(lambda x:polygon_to_geohashes(x,7))"
   ]
  },
  {
   "cell_type": "code",
   "execution_count": 311,
   "metadata": {},
   "outputs": [
    {
     "data": {
      "text/html": [
       "<div>\n",
       "<style scoped>\n",
       "    .dataframe tbody tr th:only-of-type {\n",
       "        vertical-align: middle;\n",
       "    }\n",
       "\n",
       "    .dataframe tbody tr th {\n",
       "        vertical-align: top;\n",
       "    }\n",
       "\n",
       "    .dataframe thead th {\n",
       "        text-align: right;\n",
       "    }\n",
       "</style>\n",
       "<table border=\"1\" class=\"dataframe\">\n",
       "  <thead>\n",
       "    <tr style=\"text-align: right;\">\n",
       "      <th></th>\n",
       "      <th>index</th>\n",
       "      <th>latitude</th>\n",
       "      <th>longitude</th>\n",
       "      <th>circle</th>\n",
       "      <th>geometry</th>\n",
       "      <th>geohash</th>\n",
       "    </tr>\n",
       "  </thead>\n",
       "  <tbody>\n",
       "    <tr>\n",
       "      <th>0</th>\n",
       "      <td>45</td>\n",
       "      <td>22.949900</td>\n",
       "      <td>97.746000</td>\n",
       "      <td>{'type': 'Polygon', 'coordinates': (((96.18320...</td>\n",
       "      <td>POLYGON ((96.18320608442839 16.83874978638753,...</td>\n",
       "      <td>{w4uru9u, w4uru84, w4uru3u, w4uru6q, w4uru9s, ...</td>\n",
       "    </tr>\n",
       "    <tr>\n",
       "      <th>1</th>\n",
       "      <td>67</td>\n",
       "      <td>16.777815</td>\n",
       "      <td>96.151357</td>\n",
       "      <td>{'type': 'Polygon', 'coordinates': (((96.13845...</td>\n",
       "      <td>POLYGON ((96.13845207912325 16.82856548652448,...</td>\n",
       "      <td>{w4urern, w4urers, w4urg2r, w4urer6, w4ureru, ...</td>\n",
       "    </tr>\n",
       "    <tr>\n",
       "      <th>2</th>\n",
       "      <td>132</td>\n",
       "      <td>16.145002</td>\n",
       "      <td>94.758555</td>\n",
       "      <td>{'type': 'Polygon', 'coordinates': (((96.20077...</td>\n",
       "      <td>POLYGON ((96.20077608993772 16.83886078638604,...</td>\n",
       "      <td>{w4urub2, w4urudp, w4uruc3, w4urubq, w4urubf, ...</td>\n",
       "    </tr>\n",
       "    <tr>\n",
       "      <th>3</th>\n",
       "      <td>169</td>\n",
       "      <td>20.813400</td>\n",
       "      <td>95.771500</td>\n",
       "      <td>{'type': 'Polygon', 'coordinates': (((96.18310...</td>\n",
       "      <td>POLYGON ((96.18310090079291 16.77446578725165,...</td>\n",
       "      <td>{w4urkwc, w4urkwk, w4urktv, w4urkky, w4urkt3, ...</td>\n",
       "    </tr>\n",
       "    <tr>\n",
       "      <th>4</th>\n",
       "      <td>272</td>\n",
       "      <td>16.608285</td>\n",
       "      <td>94.927038</td>\n",
       "      <td>{'type': 'Polygon', 'coordinates': (((96.13838...</td>\n",
       "      <td>POLYGON ((96.138388694982 16.81072878676427, 9...</td>\n",
       "      <td>{w4uresg, w4ureks, w4uree3, w4urek3, w4ures6, ...</td>\n",
       "    </tr>\n",
       "  </tbody>\n",
       "</table>\n",
       "</div>"
      ],
      "text/plain": [
       "   index   latitude  longitude  \\\n",
       "0     45  22.949900  97.746000   \n",
       "1     67  16.777815  96.151357   \n",
       "2    132  16.145002  94.758555   \n",
       "3    169  20.813400  95.771500   \n",
       "4    272  16.608285  94.927038   \n",
       "\n",
       "                                              circle  \\\n",
       "0  {'type': 'Polygon', 'coordinates': (((96.18320...   \n",
       "1  {'type': 'Polygon', 'coordinates': (((96.13845...   \n",
       "2  {'type': 'Polygon', 'coordinates': (((96.20077...   \n",
       "3  {'type': 'Polygon', 'coordinates': (((96.18310...   \n",
       "4  {'type': 'Polygon', 'coordinates': (((96.13838...   \n",
       "\n",
       "                                            geometry  \\\n",
       "0  POLYGON ((96.18320608442839 16.83874978638753,...   \n",
       "1  POLYGON ((96.13845207912325 16.82856548652448,...   \n",
       "2  POLYGON ((96.20077608993772 16.83886078638604,...   \n",
       "3  POLYGON ((96.18310090079291 16.77446578725165,...   \n",
       "4  POLYGON ((96.138388694982 16.81072878676427, 9...   \n",
       "\n",
       "                                             geohash  \n",
       "0  {w4uru9u, w4uru84, w4uru3u, w4uru6q, w4uru9s, ...  \n",
       "1  {w4urern, w4urers, w4urg2r, w4urer6, w4ureru, ...  \n",
       "2  {w4urub2, w4urudp, w4uruc3, w4urubq, w4urubf, ...  \n",
       "3  {w4urkwc, w4urkwk, w4urktv, w4urkky, w4urkt3, ...  \n",
       "4  {w4uresg, w4ureks, w4uree3, w4urek3, w4ures6, ...  "
      ]
     },
     "execution_count": 311,
     "metadata": {},
     "output_type": "execute_result"
    }
   ],
   "source": [
    "poi_fin.head()"
   ]
  },
  {
   "cell_type": "code",
   "execution_count": 312,
   "metadata": {},
   "outputs": [
    {
     "data": {
      "text/plain": [
       "pandas.core.frame.DataFrame"
      ]
     },
     "execution_count": 312,
     "metadata": {},
     "output_type": "execute_result"
    }
   ],
   "source": [
    "type(poi_fin)"
   ]
  },
  {
   "cell_type": "code",
   "execution_count": 313,
   "metadata": {},
   "outputs": [
    {
     "data": {
      "image/svg+xml": [
       "<svg xmlns=\"http://www.w3.org/2000/svg\" xmlns:xlink=\"http://www.w3.org/1999/xlink\" width=\"100.0\" height=\"100.0\" viewBox=\"96.16369682330642 16.764757188210115 0.020150388159038357 0.019417620678161995\" preserveAspectRatio=\"xMinYMin meet\"><g transform=\"matrix(1,0,0,-1,0,33.54893199709839)\"><path fill-rule=\"evenodd\" fill=\"#66cc99\" stroke=\"#555555\" stroke-width=\"0.00040300776318076716\" opacity=\"0.6\" d=\"M 96.18310090079291,16.774465787251653 L 96.18259210401023,16.77738590214887 L 96.18112053395187,16.779989615126052 L 96.17884563331646,16.7819947553606 L 96.17601392660823,16.783184013215802 L 96.1729323038183,16.78342849821572 L 96.1699347512114,16.782701713052 L 96.16734613990572,16.78108242648287 L 96.16544700426265,16.778746133165757 L 96.16444313397898,16.77594602772034 L 96.16444327827769,16.77298555831026 L 96.1654473763053,16.77018553772358 L 96.16734658279483,16.767849378337402 L 96.16993507817226,16.766230218290186 L 96.17293237696529,16.765503498882673 L 96.17601371509389,16.765747961142438 L 96.17884522634039,16.766937117351087 L 96.1811201031436,16.768942119898966 L 96.18259183104979,16.771545717214448 L 96.18310090079291,16.774465787251653 z\" /></g></svg>"
      ],
      "text/plain": [
       "<shapely.geometry.polygon.Polygon at 0x1c910bb0cc0>"
      ]
     },
     "execution_count": 313,
     "metadata": {},
     "output_type": "execute_result"
    }
   ],
   "source": [
    "poi_fin['geometry'][3]"
   ]
  },
  {
   "cell_type": "code",
   "execution_count": 318,
   "metadata": {},
   "outputs": [],
   "source": [
    "# STEP 7: SAVE THE FILES \n",
    "poi_fin.to_csv(\"poi_fin\",index=False)"
   ]
  },
  {
   "cell_type": "code",
   "execution_count": 5,
   "metadata": {},
   "outputs": [
    {
     "ename": "NameError",
     "evalue": "name 'poi_fin' is not defined",
     "output_type": "error",
     "traceback": [
      "\u001b[1;31m---------------------------------------------------------------------------\u001b[0m",
      "\u001b[1;31mNameError\u001b[0m                                 Traceback (most recent call last)",
      "\u001b[1;32m<ipython-input-5-001bd96d05eb>\u001b[0m in \u001b[0;36m<module>\u001b[1;34m()\u001b[0m\n\u001b[1;32m----> 1\u001b[1;33m \u001b[0mpoi_fin\u001b[0m\u001b[1;33m.\u001b[0m\u001b[0mhead\u001b[0m\u001b[1;33m(\u001b[0m\u001b[1;36m3\u001b[0m\u001b[1;33m)\u001b[0m\u001b[1;33m\u001b[0m\u001b[0m\n\u001b[0m",
      "\u001b[1;31mNameError\u001b[0m: name 'poi_fin' is not defined"
     ]
    }
   ],
   "source": [
    "poi_fin.head(3)"
   ]
  },
  {
   "cell_type": "code",
   "execution_count": 314,
   "metadata": {},
   "outputs": [],
   "source": [
    "# STEP 6: CONVERT INTO GEODATAFRAME\n",
    "poi_fin_1km = gp.GeoDataFrame(poi_fin,crs='epsg:4326',geometry=poi_fin['geometry'])"
   ]
  },
  {
   "cell_type": "code",
   "execution_count": null,
   "metadata": {},
   "outputs": [],
   "source": [
    "# STEP 6: SAVE THE FILES \n",
    "del poi_fin_1km['index']"
   ]
  },
  {
   "cell_type": "code",
   "execution_count": null,
   "metadata": {},
   "outputs": [],
   "source": [
    "poi_fin_1km.to_file(\"poi_fin_1km\")"
   ]
  },
  {
   "cell_type": "code",
   "execution_count": null,
   "metadata": {},
   "outputs": [],
   "source": [
    "del poi_fin_1km['circle']"
   ]
  },
  {
   "cell_type": "code",
   "execution_count": null,
   "metadata": {},
   "outputs": [],
   "source": [
    "poi_fin_1km.dtypes"
   ]
  }
 ],
 "metadata": {
  "kernelspec": {
   "display_name": "Python 3",
   "language": "python",
   "name": "python3"
  },
  "language_info": {
   "codemirror_mode": {
    "name": "ipython",
    "version": 3
   },
   "file_extension": ".py",
   "mimetype": "text/x-python",
   "name": "python",
   "nbconvert_exporter": "python",
   "pygments_lexer": "ipython3",
   "version": "3.7.3"
  }
 },
 "nbformat": 4,
 "nbformat_minor": 2
}
